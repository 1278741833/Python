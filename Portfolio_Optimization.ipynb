{
  "nbformat": 4,
  "nbformat_minor": 0,
  "metadata": {
    "colab": {
      "name": "Portfolio_Optimization.ipynb",
      "provenance": [],
      "collapsed_sections": []
    },
    "kernelspec": {
      "name": "python3",
      "display_name": "Python 3"
    }
  },
  "cells": [
    {
      "cell_type": "code",
      "metadata": {
        "id": "ByF82Z9Ugvzu",
        "colab_type": "code",
        "outputId": "2fe8104f-c1bb-4b2f-b5e4-e0b65ef74be2",
        "colab": {
          "base_uri": "https://localhost:8080/",
          "height": 54
        }
      },
      "source": [
        "'''\n",
        "Description: This program attempts to optimize a users portfolio using the Efficient Frontier & Python.\n",
        "\n",
        "Portfolio optimization is the process of selecting the best portfolio (asset distribution),\n",
        "out of the set of all portfolios being considered, according to some objective. The objective\n",
        "typically maximizes factors such as expected return, and minimizes costs like financial risk.\n",
        "-https://en.wikipedia.org/wiki/Portfolio_optimization \n",
        "\n",
        "Modern portfolio theory says that it is not enough to look at the expected risk and return of one \n",
        "particular stock. By investing in more than one stock, an investor can reap\n",
        "the benefits of diversification — chief among them, a reduction in the riskiness of the portfolio.\n",
        "-https://towardsdatascience.com/efficient-frontier-portfolio-optimisation-in-python-e7844051e7f\n",
        "\n",
        "The number of trading days in a year is about 252 or 253 depending on how you round (so these are the numbers that I will use in this program):\n",
        "The number 253 was calculated from 365.25 (days on average per year) * 5/7 \n",
        "(proportion work days per week) — 6 (weekday holidays) — 3*5/7 (fixed date holidays) = 252.75 ≈ 253.\n",
        "In year 2020 there will be 252 trading days.\n",
        "\n",
        "Resources:\n",
        "1. pyportfolioopt : https://pyportfolioopt.readthedocs.io/en/latest/UserGuide.html\n",
        "2. Robert Ansrew Martin (Creator of Pyportfolio) : https://reasonabledeviations.com/Projects/\n",
        "3. The Sharpe Ratio YouTube: https://www.youtube.com/watch?v=50oyD_e8Vh0\n",
        "4. Treasury Bills (Risk Free Asset): https://www.investopedia.com/terms/t/treasurybill.asp\n",
        "5. The Sharpe Ratio : https://www.investopedia.com/articles/07/sharpe_ratio.asp\n",
        "6. Calculating the Sharpe Ratio In Python : https://towardsdatascience.com/calculating-sharpe-ratio-with-python-755dcb346805\n",
        "7. Efficient Frontier Portfolio Optimisation In Python : https://towardsdatascience.com/efficient-frontier-portfolio-optimisation-in-python-e7844051e7f\n",
        "8. log returns vs simple returns : https://fintechprofessor.com/tag/log-returns-vs-simple-returns/ \n",
        "9. What is a good Sharpe Ratio: https://www.investopedia.com/ask/answers/010815/what-good-sharpe-ratio.asp\n",
        "\n",
        "'''"
      ],
      "execution_count": 0,
      "outputs": [
        {
          "output_type": "execute_result",
          "data": {
            "text/plain": [
              "'\\nDescription: This program attempts to optimize a users portfolio using the efficient frontier & Python.\\n\\nModern portfolio theory says that it is not enough to look at the expected risk and return of one \\nparticular stock. By investing in more than one stock, an investor can reap\\nthe benefits of diversification — chief among them, a reduction in the riskiness of the portfolio.\\n-https://towardsdatascience.com/efficient-frontier-portfolio-optimisation-in-python-e7844051e7f\\n\\nThe number of trading days in a year is about 252 or 253 depending on how you round:\\nThe number 253 was calculated from 365.25 (days on average per year) * 5/7 \\n(proportion work days per week) — 6 (weekday holidays) — 3*5/7 (fixed date holidays) = 252.75 ≈ 253.\\n\\nResources:\\n1. pyportfolioopt : https://pyportfolioopt.readthedocs.io/en/latest/UserGuide.html\\n2. Robert Ansrew Martin (Creator of Pyportfolio) : https://reasonabledeviations.com/Projects/\\n3. The Sharpe Ratio YouTube: https://www.youtube.com/watch?v=50oyD_e8Vh0\\n4. Treasury Bills (Risk Free Asset): https://www.investopedia.com/terms/t/treasurybill.asp\\n5. The Sharpe Ratio : https://www.investopedia.com/articles/07/sharpe_ratio.asp\\n6. Calculating the Sharpe Ratio In Python : https://towardsdatascience.com/calculating-sharpe-ratio-with-python-755dcb346805\\n7. Efficient Frontier Portfolio Optimisation In Python : https://towardsdatascience.com/efficient-frontier-portfolio-optimisation-in-python-e7844051e7f\\n\\n'"
            ]
          },
          "metadata": {
            "tags": []
          },
          "execution_count": 1
        }
      ]
    },
    {
      "cell_type": "code",
      "metadata": {
        "id": "xv0QcSvuDwf0",
        "colab_type": "code",
        "colab": {}
      },
      "source": [
        "# Import the python libraries\n",
        "from pandas_datareader import data as web\n",
        "import pandas as pd\n",
        "import numpy as np\n",
        "from datetime import datetime\n",
        "import matplotlib.pyplot as plt\n",
        "plt.style.use('fivethirtyeight')"
      ],
      "execution_count": 0,
      "outputs": []
    },
    {
      "cell_type": "code",
      "metadata": {
        "id": "Sj-w65fXH-dM",
        "colab_type": "code",
        "colab": {}
      },
      "source": [
        "# Get the stock symbols/tickers in your portfolio, \n",
        "#FAANG\n",
        "#FAANG is an acronym referring to the stocks of the five most popular and best-performing American \n",
        "#technology companies: \n",
        "#Facebook, Amazon, Apple, Netflix and Alphabet (formerly known as Google)\n",
        "assets =  [\"FB\", \"AMZN\", \"AAPL\", \"NFLX\", \"GOOG\"]"
      ],
      "execution_count": 0,
      "outputs": []
    },
    {
      "cell_type": "code",
      "metadata": {
        "id": "KH_kUcSBZQ4G",
        "colab_type": "code",
        "outputId": "824e5df4-7adf-40a0-ec3c-184b7aade924",
        "colab": {
          "base_uri": "https://localhost:8080/",
          "height": 34
        }
      },
      "source": [
        "# Assign weights to the stocks. Weights must = 1 so 0.2 for each \n",
        "weights = np.array([0.2, 0.2, 0.2, 0.2, 0.2])\n",
        "weights"
      ],
      "execution_count": 0,
      "outputs": [
        {
          "output_type": "execute_result",
          "data": {
            "text/plain": [
              "array([0.2, 0.2, 0.2, 0.2, 0.2])"
            ]
          },
          "metadata": {
            "tags": []
          },
          "execution_count": 4
        }
      ]
    },
    {
      "cell_type": "code",
      "metadata": {
        "id": "0H4JBIFWje9k",
        "colab_type": "code",
        "colab": {}
      },
      "source": [
        "#Get the stock starting date\n",
        "stockStartDate = '2013-01-01'\n",
        "\n",
        "# Get the stocks ending date aka todays date and format it in the form YYYY-MM-DD\n",
        "today = datetime.today().strftime('%Y-%m-%d')"
      ],
      "execution_count": 0,
      "outputs": []
    },
    {
      "cell_type": "code",
      "metadata": {
        "id": "VanfyE6TH_mx",
        "colab_type": "code",
        "colab": {}
      },
      "source": [
        "#Create a dataframe to store the adjusted close price of the stocks\n",
        "df = pd.DataFrame()  \n",
        "#Store the adjusted close price of stock into the dataframe\n",
        "for stock in assets:\n",
        "    df[stock] = web.DataReader(stock, data_source='yahoo',\n",
        "                               start=stockStartDate , end=today)['Adj Close']\n"
      ],
      "execution_count": 0,
      "outputs": []
    },
    {
      "cell_type": "code",
      "metadata": {
        "id": "IZpoea7rJaMh",
        "colab_type": "code",
        "outputId": "21299cf6-c4c6-403d-e771-0a62af5d0366",
        "colab": {
          "base_uri": "https://localhost:8080/",
          "height": 450
        }
      },
      "source": [
        "#Show the dataframe\n",
        "df"
      ],
      "execution_count": 0,
      "outputs": [
        {
          "output_type": "execute_result",
          "data": {
            "text/html": [
              "<div>\n",
              "<style scoped>\n",
              "    .dataframe tbody tr th:only-of-type {\n",
              "        vertical-align: middle;\n",
              "    }\n",
              "\n",
              "    .dataframe tbody tr th {\n",
              "        vertical-align: top;\n",
              "    }\n",
              "\n",
              "    .dataframe thead th {\n",
              "        text-align: right;\n",
              "    }\n",
              "</style>\n",
              "<table border=\"1\" class=\"dataframe\">\n",
              "  <thead>\n",
              "    <tr style=\"text-align: right;\">\n",
              "      <th></th>\n",
              "      <th>FB</th>\n",
              "      <th>AMZN</th>\n",
              "      <th>AAPL</th>\n",
              "      <th>NFLX</th>\n",
              "      <th>GOOG</th>\n",
              "    </tr>\n",
              "    <tr>\n",
              "      <th>Date</th>\n",
              "      <th></th>\n",
              "      <th></th>\n",
              "      <th></th>\n",
              "      <th></th>\n",
              "      <th></th>\n",
              "    </tr>\n",
              "  </thead>\n",
              "  <tbody>\n",
              "    <tr>\n",
              "      <th>2013-01-02</th>\n",
              "      <td>28.000000</td>\n",
              "      <td>257.309998</td>\n",
              "      <td>68.687538</td>\n",
              "      <td>13.144286</td>\n",
              "      <td>360.274597</td>\n",
              "    </tr>\n",
              "    <tr>\n",
              "      <th>2013-01-03</th>\n",
              "      <td>27.770000</td>\n",
              "      <td>258.480011</td>\n",
              "      <td>67.820526</td>\n",
              "      <td>13.798572</td>\n",
              "      <td>360.483826</td>\n",
              "    </tr>\n",
              "    <tr>\n",
              "      <th>2013-01-04</th>\n",
              "      <td>28.760000</td>\n",
              "      <td>259.149994</td>\n",
              "      <td>65.931404</td>\n",
              "      <td>13.711429</td>\n",
              "      <td>367.607117</td>\n",
              "    </tr>\n",
              "    <tr>\n",
              "      <th>2013-01-07</th>\n",
              "      <td>29.420000</td>\n",
              "      <td>268.459991</td>\n",
              "      <td>65.543602</td>\n",
              "      <td>14.171429</td>\n",
              "      <td>366.003143</td>\n",
              "    </tr>\n",
              "    <tr>\n",
              "      <th>2013-01-08</th>\n",
              "      <td>29.059999</td>\n",
              "      <td>266.380005</td>\n",
              "      <td>65.719994</td>\n",
              "      <td>13.880000</td>\n",
              "      <td>365.280823</td>\n",
              "    </tr>\n",
              "    <tr>\n",
              "      <th>...</th>\n",
              "      <td>...</td>\n",
              "      <td>...</td>\n",
              "      <td>...</td>\n",
              "      <td>...</td>\n",
              "      <td>...</td>\n",
              "    </tr>\n",
              "    <tr>\n",
              "      <th>2020-03-09</th>\n",
              "      <td>169.500000</td>\n",
              "      <td>1800.609985</td>\n",
              "      <td>266.170013</td>\n",
              "      <td>346.489990</td>\n",
              "      <td>1215.560059</td>\n",
              "    </tr>\n",
              "    <tr>\n",
              "      <th>2020-03-10</th>\n",
              "      <td>178.190002</td>\n",
              "      <td>1891.819946</td>\n",
              "      <td>285.339996</td>\n",
              "      <td>364.130005</td>\n",
              "      <td>1280.390015</td>\n",
              "    </tr>\n",
              "    <tr>\n",
              "      <th>2020-03-11</th>\n",
              "      <td>170.240005</td>\n",
              "      <td>1820.859985</td>\n",
              "      <td>275.429993</td>\n",
              "      <td>349.920013</td>\n",
              "      <td>1215.410034</td>\n",
              "    </tr>\n",
              "    <tr>\n",
              "      <th>2020-03-12</th>\n",
              "      <td>154.470001</td>\n",
              "      <td>1676.609985</td>\n",
              "      <td>248.229996</td>\n",
              "      <td>315.250000</td>\n",
              "      <td>1114.910034</td>\n",
              "    </tr>\n",
              "    <tr>\n",
              "      <th>2020-03-13</th>\n",
              "      <td>170.279999</td>\n",
              "      <td>1785.000000</td>\n",
              "      <td>277.970001</td>\n",
              "      <td>336.299988</td>\n",
              "      <td>1219.729980</td>\n",
              "    </tr>\n",
              "  </tbody>\n",
              "</table>\n",
              "<p>1812 rows × 5 columns</p>\n",
              "</div>"
            ],
            "text/plain": [
              "                    FB         AMZN        AAPL        NFLX         GOOG\n",
              "Date                                                                    \n",
              "2013-01-02   28.000000   257.309998   68.687538   13.144286   360.274597\n",
              "2013-01-03   27.770000   258.480011   67.820526   13.798572   360.483826\n",
              "2013-01-04   28.760000   259.149994   65.931404   13.711429   367.607117\n",
              "2013-01-07   29.420000   268.459991   65.543602   14.171429   366.003143\n",
              "2013-01-08   29.059999   266.380005   65.719994   13.880000   365.280823\n",
              "...                ...          ...         ...         ...          ...\n",
              "2020-03-09  169.500000  1800.609985  266.170013  346.489990  1215.560059\n",
              "2020-03-10  178.190002  1891.819946  285.339996  364.130005  1280.390015\n",
              "2020-03-11  170.240005  1820.859985  275.429993  349.920013  1215.410034\n",
              "2020-03-12  154.470001  1676.609985  248.229996  315.250000  1114.910034\n",
              "2020-03-13  170.279999  1785.000000  277.970001  336.299988  1219.729980\n",
              "\n",
              "[1812 rows x 5 columns]"
            ]
          },
          "metadata": {
            "tags": []
          },
          "execution_count": 7
        }
      ]
    },
    {
      "cell_type": "code",
      "metadata": {
        "id": "RHrgLA-Nj2h6",
        "colab_type": "code",
        "outputId": "99df2170-bcc1-4875-da5d-43bcca01bba5",
        "colab": {
          "base_uri": "https://localhost:8080/",
          "height": 476
        }
      },
      "source": [
        "# Visually Show The Stock/Portfolio Price(s)\n",
        "\n",
        "# Create the title 'Portfolio Adj Close Price History\n",
        "title = 'Portfolio Adj. Close Price History    '\n",
        "#Get the stocks\n",
        "my_stocks = df\n",
        "  \n",
        "#Create and plot the graph\n",
        "plt.figure(figsize=(12.2,4.5)) #width = 12.2in, height = 4.5\n",
        "# Loop through each stock and plot the Adj Close for each day\n",
        "for c in my_stocks.columns.values:\n",
        "  plt.plot( my_stocks[c],  label=c)#plt.plot( X-Axis , Y-Axis, line_width, alpha_for_blending,  label)\n",
        "  \n",
        "plt.title(title)\n",
        "plt.xlabel('Date',fontsize=18)\n",
        "plt.ylabel('Adj. Price USD ($)',fontsize=18)\n",
        "plt.legend(my_stocks.columns.values, loc='upper left')\n",
        "plt.show()\n"
      ],
      "execution_count": 0,
      "outputs": [
        {
          "output_type": "stream",
          "text": [
            "/usr/local/lib/python3.6/dist-packages/pandas/plotting/_matplotlib/converter.py:103: FutureWarning: Using an implicitly registered datetime converter for a matplotlib plotting method. The converter was registered by pandas on import. Future versions of pandas will require you to explicitly register matplotlib converters.\n",
            "\n",
            "To register the converters:\n",
            "\t>>> from pandas.plotting import register_matplotlib_converters\n",
            "\t>>> register_matplotlib_converters()\n",
            "  warnings.warn(msg, FutureWarning)\n"
          ],
          "name": "stderr"
        },
        {
          "output_type": "display_data",
          "data": {
            "image/png": "[encoded data removed]",
            "text/plain": [
              "<Figure size 878.4x324 with 1 Axes>"
            ]
          },
          "metadata": {
            "tags": []
          }
        }
      ]
    },
    {
      "cell_type": "code",
      "metadata": {
        "id": "yM3Rf3PRQu0Y",
        "colab_type": "code",
        "outputId": "cd6621ad-b0a4-4cfe-9362-3b2ecdc5b646",
        "colab": {
          "base_uri": "https://localhost:8080/",
          "height": 450
        }
      },
      "source": [
        "#Show the daily simple returns, NOTE: Formula = new_price/old_price - 1 \n",
        "returns = df.pct_change()  \n",
        "returns"
      ],
      "execution_count": 0,
      "outputs": [
        {
          "output_type": "execute_result",
          "data": {
            "text/html": [
              "<div>\n",
              "<style scoped>\n",
              "    .dataframe tbody tr th:only-of-type {\n",
              "        vertical-align: middle;\n",
              "    }\n",
              "\n",
              "    .dataframe tbody tr th {\n",
              "        vertical-align: top;\n",
              "    }\n",
              "\n",
              "    .dataframe thead th {\n",
              "        text-align: right;\n",
              "    }\n",
              "</style>\n",
              "<table border=\"1\" class=\"dataframe\">\n",
              "  <thead>\n",
              "    <tr style=\"text-align: right;\">\n",
              "      <th></th>\n",
              "      <th>FB</th>\n",
              "      <th>AMZN</th>\n",
              "      <th>AAPL</th>\n",
              "      <th>NFLX</th>\n",
              "      <th>GOOG</th>\n",
              "    </tr>\n",
              "    <tr>\n",
              "      <th>Date</th>\n",
              "      <th></th>\n",
              "      <th></th>\n",
              "      <th></th>\n",
              "      <th></th>\n",
              "      <th></th>\n",
              "    </tr>\n",
              "  </thead>\n",
              "  <tbody>\n",
              "    <tr>\n",
              "      <th>2013-01-02</th>\n",
              "      <td>NaN</td>\n",
              "      <td>NaN</td>\n",
              "      <td>NaN</td>\n",
              "      <td>NaN</td>\n",
              "      <td>NaN</td>\n",
              "    </tr>\n",
              "    <tr>\n",
              "      <th>2013-01-03</th>\n",
              "      <td>-0.008214</td>\n",
              "      <td>0.004547</td>\n",
              "      <td>-0.012623</td>\n",
              "      <td>0.049777</td>\n",
              "      <td>0.000581</td>\n",
              "    </tr>\n",
              "    <tr>\n",
              "      <th>2013-01-04</th>\n",
              "      <td>0.035650</td>\n",
              "      <td>0.002592</td>\n",
              "      <td>-0.027855</td>\n",
              "      <td>-0.006315</td>\n",
              "      <td>0.019760</td>\n",
              "    </tr>\n",
              "    <tr>\n",
              "      <th>2013-01-07</th>\n",
              "      <td>0.022949</td>\n",
              "      <td>0.035925</td>\n",
              "      <td>-0.005882</td>\n",
              "      <td>0.033549</td>\n",
              "      <td>-0.004363</td>\n",
              "    </tr>\n",
              "    <tr>\n",
              "      <th>2013-01-08</th>\n",
              "      <td>-0.012237</td>\n",
              "      <td>-0.007748</td>\n",
              "      <td>0.002691</td>\n",
              "      <td>-0.020565</td>\n",
              "      <td>-0.001974</td>\n",
              "    </tr>\n",
              "    <tr>\n",
              "      <th>...</th>\n",
              "      <td>...</td>\n",
              "      <td>...</td>\n",
              "      <td>...</td>\n",
              "      <td>...</td>\n",
              "      <td>...</td>\n",
              "    </tr>\n",
              "    <tr>\n",
              "      <th>2020-03-09</th>\n",
              "      <td>-0.064001</td>\n",
              "      <td>-0.052854</td>\n",
              "      <td>-0.079092</td>\n",
              "      <td>-0.060926</td>\n",
              "      <td>-0.063809</td>\n",
              "    </tr>\n",
              "    <tr>\n",
              "      <th>2020-03-10</th>\n",
              "      <td>0.051268</td>\n",
              "      <td>0.050655</td>\n",
              "      <td>0.072022</td>\n",
              "      <td>0.050911</td>\n",
              "      <td>0.053333</td>\n",
              "    </tr>\n",
              "    <tr>\n",
              "      <th>2020-03-11</th>\n",
              "      <td>-0.044615</td>\n",
              "      <td>-0.037509</td>\n",
              "      <td>-0.034731</td>\n",
              "      <td>-0.039025</td>\n",
              "      <td>-0.050750</td>\n",
              "    </tr>\n",
              "    <tr>\n",
              "      <th>2020-03-12</th>\n",
              "      <td>-0.092634</td>\n",
              "      <td>-0.079221</td>\n",
              "      <td>-0.098755</td>\n",
              "      <td>-0.099080</td>\n",
              "      <td>-0.082688</td>\n",
              "    </tr>\n",
              "    <tr>\n",
              "      <th>2020-03-13</th>\n",
              "      <td>0.102350</td>\n",
              "      <td>0.064648</td>\n",
              "      <td>0.119808</td>\n",
              "      <td>0.066772</td>\n",
              "      <td>0.094017</td>\n",
              "    </tr>\n",
              "  </tbody>\n",
              "</table>\n",
              "<p>1812 rows × 5 columns</p>\n",
              "</div>"
            ],
            "text/plain": [
              "                  FB      AMZN      AAPL      NFLX      GOOG\n",
              "Date                                                        \n",
              "2013-01-02       NaN       NaN       NaN       NaN       NaN\n",
              "2013-01-03 -0.008214  0.004547 -0.012623  0.049777  0.000581\n",
              "2013-01-04  0.035650  0.002592 -0.027855 -0.006315  0.019760\n",
              "2013-01-07  0.022949  0.035925 -0.005882  0.033549 -0.004363\n",
              "2013-01-08 -0.012237 -0.007748  0.002691 -0.020565 -0.001974\n",
              "...              ...       ...       ...       ...       ...\n",
              "2020-03-09 -0.064001 -0.052854 -0.079092 -0.060926 -0.063809\n",
              "2020-03-10  0.051268  0.050655  0.072022  0.050911  0.053333\n",
              "2020-03-11 -0.044615 -0.037509 -0.034731 -0.039025 -0.050750\n",
              "2020-03-12 -0.092634 -0.079221 -0.098755 -0.099080 -0.082688\n",
              "2020-03-13  0.102350  0.064648  0.119808  0.066772  0.094017\n",
              "\n",
              "[1812 rows x 5 columns]"
            ]
          },
          "metadata": {
            "tags": []
          },
          "execution_count": 9
        }
      ]
    },
    {
      "cell_type": "code",
      "metadata": {
        "id": "fa3NFxd0YYcw",
        "colab_type": "code",
        "outputId": "c76fe866-fda2-42bc-f31c-c6bcbdbbcb4a",
        "colab": {
          "base_uri": "https://localhost:8080/",
          "height": 204
        }
      },
      "source": [
        "#Create and show the annualized covariance matrix\n",
        "\n",
        "# Covariance is a mathematical concept which is commonly used in statistics. \n",
        "# when comparing data samples from different populations, \n",
        "# covariance is used to determine how much two random variables vary or move together, \n",
        "# so it's the directional relationship between two asset prices\n",
        "\n",
        "# The diagonal entries of the covariance matrix are the variances and the other entries are the covariances\n",
        "# The covariance of two stocks tells you how likely they are to increase or decrease simultaneously.\n",
        "\n",
        "# Variance is a statistical measure of how much a set of observations differ from each other.\n",
        "# If you take the square root of variance then you get the volatility or standard deviation\n",
        "#   e.g. sqrt(variance) = σ = volatility = standard deviation\n",
        "\n",
        "# NOTE: Volatility is the degree of variation of a trading price series over time as measured by the standard deviation of logarithmic returns.\n",
        "#       Annualized daily covariance matrix is covalance matrix * approx. 252 trading days in a year\n",
        "\n",
        "cov_matrix_annual = returns.cov() * 252\n",
        "cov_matrix_annual"
      ],
      "execution_count": 0,
      "outputs": [
        {
          "output_type": "execute_result",
          "data": {
            "text/html": [
              "<div>\n",
              "<style scoped>\n",
              "    .dataframe tbody tr th:only-of-type {\n",
              "        vertical-align: middle;\n",
              "    }\n",
              "\n",
              "    .dataframe tbody tr th {\n",
              "        vertical-align: top;\n",
              "    }\n",
              "\n",
              "    .dataframe thead th {\n",
              "        text-align: right;\n",
              "    }\n",
              "</style>\n",
              "<table border=\"1\" class=\"dataframe\">\n",
              "  <thead>\n",
              "    <tr style=\"text-align: right;\">\n",
              "      <th></th>\n",
              "      <th>FB</th>\n",
              "      <th>AMZN</th>\n",
              "      <th>AAPL</th>\n",
              "      <th>NFLX</th>\n",
              "      <th>GOOG</th>\n",
              "    </tr>\n",
              "  </thead>\n",
              "  <tbody>\n",
              "    <tr>\n",
              "      <th>FB</th>\n",
              "      <td>0.109611</td>\n",
              "      <td>0.048688</td>\n",
              "      <td>0.033886</td>\n",
              "      <td>0.050926</td>\n",
              "      <td>0.041998</td>\n",
              "    </tr>\n",
              "    <tr>\n",
              "      <th>AMZN</th>\n",
              "      <td>0.048688</td>\n",
              "      <td>0.089034</td>\n",
              "      <td>0.031999</td>\n",
              "      <td>0.057688</td>\n",
              "      <td>0.043506</td>\n",
              "    </tr>\n",
              "    <tr>\n",
              "      <th>AAPL</th>\n",
              "      <td>0.033886</td>\n",
              "      <td>0.031999</td>\n",
              "      <td>0.069938</td>\n",
              "      <td>0.028193</td>\n",
              "      <td>0.030822</td>\n",
              "    </tr>\n",
              "    <tr>\n",
              "      <th>NFLX</th>\n",
              "      <td>0.050926</td>\n",
              "      <td>0.057688</td>\n",
              "      <td>0.028193</td>\n",
              "      <td>0.211284</td>\n",
              "      <td>0.045765</td>\n",
              "    </tr>\n",
              "    <tr>\n",
              "      <th>GOOG</th>\n",
              "      <td>0.041998</td>\n",
              "      <td>0.043506</td>\n",
              "      <td>0.030822</td>\n",
              "      <td>0.045765</td>\n",
              "      <td>0.058966</td>\n",
              "    </tr>\n",
              "  </tbody>\n",
              "</table>\n",
              "</div>"
            ],
            "text/plain": [
              "            FB      AMZN      AAPL      NFLX      GOOG\n",
              "FB    0.109611  0.048688  0.033886  0.050926  0.041998\n",
              "AMZN  0.048688  0.089034  0.031999  0.057688  0.043506\n",
              "AAPL  0.033886  0.031999  0.069938  0.028193  0.030822\n",
              "NFLX  0.050926  0.057688  0.028193  0.211284  0.045765\n",
              "GOOG  0.041998  0.043506  0.030822  0.045765  0.058966"
            ]
          },
          "metadata": {
            "tags": []
          },
          "execution_count": 10
        }
      ]
    },
    {
      "cell_type": "code",
      "metadata": {
        "id": "7-LuU0npZTgU",
        "colab_type": "code",
        "outputId": "34f6c1d8-26bc-4f71-dce1-784de90e268b",
        "colab": {
          "base_uri": "https://localhost:8080/",
          "height": 34
        }
      },
      "source": [
        "# Calculate the portfolio variance with the formula\n",
        "# Formula for calculating portfolio variance: Weights transposed * (Covariance matrix * Weights)\n",
        "port_variance = np.dot(weights.T, np.dot(cov_matrix_annual, weights))\n",
        "port_variance"
      ],
      "execution_count": 0,
      "outputs": [
        {
          "output_type": "execute_result",
          "data": {
            "text/plain": [
              "0.054630886335622277"
            ]
          },
          "metadata": {
            "tags": []
          },
          "execution_count": 11
        }
      ]
    },
    {
      "cell_type": "code",
      "metadata": {
        "id": "oNeHqxjI9h3A",
        "colab_type": "code",
        "outputId": "e138f985-2c04-43cd-c2c0-a4307e6a0a77",
        "colab": {
          "base_uri": "https://localhost:8080/",
          "height": 34
        }
      },
      "source": [
        "#Calculate the portfolio volatility / standard deviation\n",
        "\n",
        "# The standard deviation aka volatility of a portfolio is the square root of its variance\n",
        "# Formula for calculating portfolio volatility: \n",
        "# SQRT(variance)\n",
        "# or \n",
        "# SQRT( Weights transposed * (Covariance matrix * Weights) )\n",
        "port_volatility = np.sqrt(port_variance)\n",
        "port_volatility"
      ],
      "execution_count": 0,
      "outputs": [
        {
          "output_type": "execute_result",
          "data": {
            "text/plain": [
              "0.23373251022402142"
            ]
          },
          "metadata": {
            "tags": []
          },
          "execution_count": 12
        }
      ]
    },
    {
      "cell_type": "code",
      "metadata": {
        "id": "t58QUwqY06uZ",
        "colab_type": "code",
        "outputId": "8b1e7ff8-6b7a-4709-dbbf-4e512fc1d54c",
        "colab": {
          "base_uri": "https://localhost:8080/",
          "height": 34
        }
      },
      "source": [
        "#Calculate the annual portfolio return\n",
        "portfolioSimpleAnnualReturn = np.sum(returns.mean()*weights) * 252\n",
        "portfolioSimpleAnnualReturn"
      ],
      "execution_count": 0,
      "outputs": [
        {
          "output_type": "execute_result",
          "data": {
            "text/plain": [
              "0.3201850376120795"
            ]
          },
          "metadata": {
            "tags": []
          },
          "execution_count": 13
        }
      ]
    },
    {
      "cell_type": "code",
      "metadata": {
        "id": "Ss5appHbaGcd",
        "colab_type": "code",
        "outputId": "73a801a4-cc57-4223-b43c-9e7650a03b2d",
        "colab": {
          "base_uri": "https://localhost:8080/",
          "height": 68
        }
      },
      "source": [
        "#Show the expected annual return, volatility or risk, and variance\n",
        "percent_var = str(round(port_variance, 2) * 100) + '%'\n",
        "percent_vols = str(round(port_volatility, 2) * 100) + '%'\n",
        "percent_ret = str(round(portfolioSimpleAnnualReturn, 2)*100)+'%'\n",
        "\n",
        "print(\"Expected annual return : \"+ percent_ret)\n",
        "print('Annual volatility/standard deviation/risk : '+percent_vols)\n",
        "print('Annual variance : '+percent_var)\n"
      ],
      "execution_count": 0,
      "outputs": [
        {
          "output_type": "stream",
          "text": [
            "Expected annual return : 32.0%\n",
            "Annual volatility/standard deviation/risk : 23.0%\n",
            "Annual variance : 5.0%\n"
          ],
          "name": "stdout"
        }
      ]
    },
    {
      "cell_type": "code",
      "metadata": {
        "id": "nRPYDOb0aVvd",
        "colab_type": "code",
        "outputId": "fb5bd873-6a73-4a5f-8398-b1198b5cfe5d",
        "colab": {
          "base_uri": "https://localhost:8080/",
          "height": 547
        }
      },
      "source": [
        "pip install PyPortfolioOpt"
      ],
      "execution_count": 0,
      "outputs": [
        {
          "output_type": "stream",
          "text": [
            "Collecting PyPortfolioOpt\n",
            "  Downloading https://files.pythonhosted.org/packages/29/fd/d508bd6265800baf4a8bfce38b371bfab4cc3cc2f75fa335e99aff87938e/PyPortfolioOpt-0.5.5-py3-none-any.whl\n",
            "Collecting cvxpy<2.0.0,>=1.0.28\n",
            "\u001b[?25l  Downloading https://files.pythonhosted.org/packages/65/3e/186657ce34e74c3547151ad38050bc42885df5624c9fcbdd5aba5a00ebcf/cvxpy-1.0.28.tar.gz (947kB)\n",
            "\u001b[K     |████████████████████████████████| 952kB 8.1MB/s \n",
            "\u001b[?25h  Installing build dependencies ... \u001b[?25l\u001b[?25hdone\n",
            "  Getting requirements to build wheel ... \u001b[?25l\u001b[?25hdone\n",
            "    Preparing wheel metadata ... \u001b[?25l\u001b[?25hdone\n",
            "Requirement already satisfied: scipy in /usr/local/lib/python3.6/dist-packages (from PyPortfolioOpt) (1.4.1)\n",
            "Requirement already satisfied: pandas<0.26.0,>=0.25.3 in /usr/local/lib/python3.6/dist-packages (from PyPortfolioOpt) (0.25.3)\n",
            "Requirement already satisfied: numpy in /usr/local/lib/python3.6/dist-packages (from PyPortfolioOpt) (1.17.5)\n",
            "Requirement already satisfied: osqp>=0.4.1 in /usr/local/lib/python3.6/dist-packages (from cvxpy<2.0.0,>=1.0.28->PyPortfolioOpt) (0.6.1)\n",
            "Requirement already satisfied: scs>=1.1.3 in /usr/local/lib/python3.6/dist-packages (from cvxpy<2.0.0,>=1.0.28->PyPortfolioOpt) (2.1.1.post2)\n",
            "Requirement already satisfied: multiprocess in /usr/local/lib/python3.6/dist-packages (from cvxpy<2.0.0,>=1.0.28->PyPortfolioOpt) (0.70.9)\n",
            "Requirement already satisfied: ecos>=2 in /usr/local/lib/python3.6/dist-packages (from cvxpy<2.0.0,>=1.0.28->PyPortfolioOpt) (2.0.7.post1)\n",
            "Requirement already satisfied: pytz>=2017.2 in /usr/local/lib/python3.6/dist-packages (from pandas<0.26.0,>=0.25.3->PyPortfolioOpt) (2018.9)\n",
            "Requirement already satisfied: python-dateutil>=2.6.1 in /usr/local/lib/python3.6/dist-packages (from pandas<0.26.0,>=0.25.3->PyPortfolioOpt) (2.6.1)\n",
            "Requirement already satisfied: future in /usr/local/lib/python3.6/dist-packages (from osqp>=0.4.1->cvxpy<2.0.0,>=1.0.28->PyPortfolioOpt) (0.16.0)\n",
            "Requirement already satisfied: dill>=0.3.1 in /usr/local/lib/python3.6/dist-packages (from multiprocess->cvxpy<2.0.0,>=1.0.28->PyPortfolioOpt) (0.3.1.1)\n",
            "Requirement already satisfied: six>=1.5 in /usr/local/lib/python3.6/dist-packages (from python-dateutil>=2.6.1->pandas<0.26.0,>=0.25.3->PyPortfolioOpt) (1.12.0)\n",
            "Building wheels for collected packages: cvxpy\n",
            "  Building wheel for cvxpy (PEP 517) ... \u001b[?25l\u001b[?25hdone\n",
            "  Created wheel for cvxpy: filename=cvxpy-1.0.28-cp36-cp36m-linux_x86_64.whl size=2114249 sha256=f30d40aebedaa4c80ea934531145d82a7041dd8b31712f7383ef87a30557de28\n",
            "  Stored in directory: /root/.cache/pip/wheels/c0/39/27/b05cd1ca18445ed4b54c8fe7ecae57dae188cc55b7dd2bbfbf\n",
            "Successfully built cvxpy\n",
            "Installing collected packages: cvxpy, PyPortfolioOpt\n",
            "  Found existing installation: cvxpy 1.0.25\n",
            "    Uninstalling cvxpy-1.0.25:\n",
            "      Successfully uninstalled cvxpy-1.0.25\n",
            "Successfully installed PyPortfolioOpt-0.5.5 cvxpy-1.0.28\n"
          ],
          "name": "stdout"
        }
      ]
    },
    {
      "cell_type": "code",
      "metadata": {
        "id": "c9t2CgCtaYMu",
        "colab_type": "code",
        "colab": {}
      },
      "source": [
        "from pypfopt.efficient_frontier import EfficientFrontier\n",
        "from pypfopt import risk_models\n",
        "from pypfopt import expected_returns"
      ],
      "execution_count": 0,
      "outputs": []
    },
    {
      "cell_type": "code",
      "metadata": {
        "id": "26DL3De1zeCA",
        "colab_type": "code",
        "outputId": "3580ea72-28e5-4a93-a6d4-e568ace12076",
        "colab": {
          "base_uri": "https://localhost:8080/",
          "height": 102
        }
      },
      "source": [
        "# Here is an example on the stock data, demonstrating how easy it is to find\n",
        "# the long-only portfolio (A portfolio that holds only long positions on securities and no short positions)\n",
        "# that maximises the Sharpe ratio (a measure of risk-adjusted returns).\n",
        "#AKA Portfolio Optimization !\n",
        "\n",
        "'''\n",
        "In modern portfolio theory, the efficient frontier is an investment portfolio which occupies the \n",
        "'efficient' parts of the risk-return spectrum. Formally, it is the set of portfolios which satisfy \n",
        "the condition that no other portfolio exists with a higher expected return but with the same \n",
        "standard deviation of return.\n",
        "\n",
        "The Sharpe ratio was developed by William F. Sharpe in 1966. The ratio describes \n",
        "how much excess return you receive for the extra volatility you endure for holding a riskier asset.\n",
        "- Investopedia (https://www.investopedia.com/articles/07/sharpe_ratio.asp)\n",
        "\n",
        "It measures the \n",
        "performance of an investment compared to a risk-free asset (bonds, treasury bills, etc.),\n",
        "after adjusting for its risk. It is defined as the difference between the returns of the investment \n",
        "and the risk-free return, divided by the standard deviation of the investment. \n",
        "- Wikipedia (https://en.wikipedia.org/wiki/Sharpe_ratio)\n",
        "\n",
        "A risk-free asset is one that has a certain future return—and virtually no possibility of loss.\n",
        "Debt obligations issued by the U.S. Department of the Treasury (bonds, notes, and especially Treasury bills)\n",
        "are considered to be risk-free because the \"full faith and credit\" of the U.S. government backs them.\n",
        "- Investopedia (https://www.investopedia.com/terms/r/riskfreeasset.asp)\n",
        "\n",
        "So what is considered a good Sharpe ratio that indicates a high degree of expected return \n",
        "for a relatively low amount of risk?\n",
        "\n",
        "Usually, any Sharpe ratio greater than 1.0 is considered acceptable to good by investors.\n",
        "A ratio higher than 2.0 is rated as very good.\n",
        "A ratio of 3.0 or higher is considered excellent.\n",
        "A ratio under 1.0 is considered sub-optimal.\n",
        "- Investopedia (https://www.investopedia.com/ask/answers/010815/what-good-sharpe-ratio.asp)\n",
        "'''\n",
        "\n",
        "# Calculate expected returns and the annualised sample covariance matrix of (daily) asset returns.\n",
        "mu = expected_returns.mean_historical_return(df) # returns.mean() * 252, NOTE: Mu is mean\n",
        "S = risk_models.sample_cov(df) # Get the sample covariance matrix\n",
        "\n",
        "# Optimize for maximal Sharpe ratio\n",
        "ef = EfficientFrontier(mu, S) # Create EfficientFrontier Object\n",
        "weights = ef.max_sharpe() #Maximize the Sharpe ratio, and get the raw weights\n",
        "cleaned_weights = ef.clean_weights() #Helper method to clean the raw weights, setting any weights whose absolute values are below the cutoff to zero, and rounding the rest.\n",
        "#ef.save_weights_to_file(\"weights.csv\")  # save weights to file\n",
        "print(cleaned_weights) #Note the weights may have some rounding error, meaning they may not add up exactly to 1 but should be close\n",
        "ef.portfolio_performance(verbose=True) #Returns and shows the (Expected return, volatility, Sharpe ratio)"
      ],
      "execution_count": 0,
      "outputs": [
        {
          "output_type": "stream",
          "text": [
            "{'FB': 0.15791, 'AMZN': 0.23296, 'AAPL': 0.25573, 'NFLX': 0.35341, 'GOOG': 0.0}\n",
            "Expected annual return: 37.6%\n",
            "Annual volatility: 26.3%\n",
            "Sharpe Ratio: 1.35\n"
          ],
          "name": "stdout"
        },
        {
          "output_type": "execute_result",
          "data": {
            "text/plain": [
              "(0.37555169289622836, 0.26255866924979715, 1.3541799778012968)"
            ]
          },
          "metadata": {
            "tags": []
          },
          "execution_count": 17
        }
      ]
    },
    {
      "cell_type": "code",
      "metadata": {
        "id": "G_C1XOd8SoTn",
        "colab_type": "code",
        "outputId": "29a18acb-a3fa-4fc6-aef4-82f935f3773f",
        "colab": {
          "base_uri": "https://localhost:8080/",
          "height": 139
        }
      },
      "source": [
        "pip install pulp"
      ],
      "execution_count": 0,
      "outputs": [
        {
          "output_type": "stream",
          "text": [
            "Collecting pulp\n",
            "\u001b[?25l  Downloading https://files.pythonhosted.org/packages/fb/34/ff5915ff6bae91cfb7c4cc22c3c369a6aea0b2127045dd5f308a91c260ac/PuLP-2.0-py3-none-any.whl (39.2MB)\n",
            "\u001b[K     |████████████████████████████████| 39.2MB 103kB/s \n",
            "\u001b[?25hRequirement already satisfied: pyparsing>=2.0.1 in /usr/local/lib/python3.6/dist-packages (from pulp) (2.4.6)\n",
            "Installing collected packages: pulp\n",
            "Successfully installed pulp-2.0\n"
          ],
          "name": "stdout"
        }
      ]
    },
    {
      "cell_type": "code",
      "metadata": {
        "id": "-xikW-mzSmVA",
        "colab_type": "code",
        "outputId": "1bac0e02-6586-4b78-bba1-98d4d2c5c1c8",
        "colab": {
          "base_uri": "https://localhost:8080/",
          "height": 51
        }
      },
      "source": [
        "#Get the discrete allocation of each share per stock\n",
        "'''\n",
        "PyPortfolioOpt also provides a method that will  allow you to change the allocated\n",
        "weights to an actual amount that you can buy. \n",
        "Simply get the latest prices, and the desired portfolio amount ($15000 in this example)\n",
        "'''\n",
        "\n",
        "from pypfopt.discrete_allocation import DiscreteAllocation, get_latest_prices\n",
        "\n",
        "\n",
        "latest_prices = get_latest_prices(df)\n",
        "weights = cleaned_weights \n",
        "da = DiscreteAllocation(weights, latest_prices, total_portfolio_value=15000)\n",
        "allocation, leftover = da.lp_portfolio()\n",
        "print(\"Discrete allocation:\", allocation)\n",
        "print(\"Funds remaining: ${:.2f}\".format(leftover))"
      ],
      "execution_count": 0,
      "outputs": [
        {
          "output_type": "stream",
          "text": [
            "Discrete allocation: {'FB': 14.0, 'AMZN': 2.0, 'AAPL': 13.0, 'NFLX': 16.0}\n",
            "Funds remaining: $51.67\n"
          ],
          "name": "stdout"
        }
      ]
    }
  ]
}